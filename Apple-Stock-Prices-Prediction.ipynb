{
 "cells": [
  {
   "cell_type": "markdown",
   "metadata": {},
   "source": [
    "# Case Study: Apple Stock Prices Predicton"
   ]
  },
  {
   "cell_type": "markdown",
   "metadata": {},
   "source": [
    "<img src=\"https://github.com/ijoseff/ijoseff.github.io/blob/master/assets/img/portfolio/apple.png?raw=true\" width=\"500\" height=\"250\" />"
   ]
  },
  {
   "cell_type": "markdown",
   "metadata": {
    "toc": true
   },
   "source": [
    "<h1>Table of Contents<span class=\"tocSkip\"></span></h1>\n",
    "<div class=\"toc\"><ul class=\"toc-item\"><li><span><a href=\"#Case-Study:-Apple-Stock-Prices-Predicton\" data-toc-modified-id=\"Case-Study:-Apple-Stock-Prices-Predicton-1\"><span class=\"toc-item-num\">1&nbsp;&nbsp;</span>Case Study: Apple Stock Prices Predicton</a></span></li><li><span><a href=\"#Introduction\" data-toc-modified-id=\"Introduction-2\"><span class=\"toc-item-num\">2&nbsp;&nbsp;</span>Introduction</a></span></li><li><span><a href=\"#Libaries-and-Data-Importation\" data-toc-modified-id=\"Libaries-and-Data-Importation-3\"><span class=\"toc-item-num\">3&nbsp;&nbsp;</span>Libaries and Data Importation</a></span></li><li><span><a href=\"#Data-Exploration\" data-toc-modified-id=\"Data-Exploration-4\"><span class=\"toc-item-num\">4&nbsp;&nbsp;</span>Data Exploration</a></span></li><li><span><a href=\"#Data-Pre-processing\" data-toc-modified-id=\"Data-Pre-processing-5\"><span class=\"toc-item-num\">5&nbsp;&nbsp;</span>Data Pre-processing</a></span></li><li><span><a href=\"#Model-Creation\" data-toc-modified-id=\"Model-Creation-6\"><span class=\"toc-item-num\">6&nbsp;&nbsp;</span>Model Creation</a></span></li><li><span><a href=\"#Model-Evaluation\" data-toc-modified-id=\"Model-Evaluation-7\"><span class=\"toc-item-num\">7&nbsp;&nbsp;</span>Model Evaluation</a></span></li><li><span><a href=\"#Another-Prediction\" data-toc-modified-id=\"Another-Prediction-8\"><span class=\"toc-item-num\">8&nbsp;&nbsp;</span>Another Prediction</a></span></li><li><span><a href=\"#Conclusion\" data-toc-modified-id=\"Conclusion-9\"><span class=\"toc-item-num\">9&nbsp;&nbsp;</span>Conclusion</a></span></li></ul></div>"
   ]
  },
  {
   "cell_type": "markdown",
   "metadata": {},
   "source": [
    "# Introduction\n",
    "\n",
    "This is an another attempt to predict the future stocks of a certain company. In this project, an artificial recurrent neural network called Long Short Term Memory (LSTM) will be now use to predict the closing stock price of a corporation (Apple Inc.).\n",
    "\n",
    "The project goes through following steps: Data generation, Data pre-processing and feature selection, Baseline prediction, LSTM training and demonstration of results.\n",
    "\n",
    "**Problem:**\n",
    " - Predict the stock price at a certain date\n",
    "\n",
    "**Dataset:**\n",
    " - Historical data of APL Inc\n",
    "\n",
    "**Source:** Yahoo Finance"
   ]
  },
  {
   "cell_type": "markdown",
   "metadata": {},
   "source": [
    "# Libaries and Data Importation"
   ]
  },
  {
   "cell_type": "code",
   "execution_count": 9,
   "metadata": {},
   "outputs": [],
   "source": [
    "# Import libraries\n",
    "import numpy as np\n",
    "import pandas as pd\n",
    "import matplotlib.pyplot as plt\n",
    "import seaborn as sns\n",
    "\n",
    "# For calculation and web scrape\n",
    "import math\n",
    "import pandas_datareader as web\n",
    "\n",
    "# For preprocessing and model building\n",
    "from sklearn.preprocessing import MinMaxScaler\n",
    "from keras.models import Sequential\n",
    "from keras.layers import Dense, LSTM\n",
    "\n",
    "# Style settings\n",
    "sns.set()\n",
    "plt.style.use('fivethirtyeight')"
   ]
  },
  {
   "cell_type": "code",
   "execution_count": 95,
   "metadata": {},
   "outputs": [],
   "source": [
    "# Get stack quote\n",
    "df = web.DataReader('AAPL', data_source = 'yahoo', start = '2012-01-01', end = '2020-07-13')"
   ]
  },
  {
   "cell_type": "markdown",
   "metadata": {},
   "source": [
    "# Data Exploration"
   ]
  },
  {
   "cell_type": "code",
   "execution_count": 96,
   "metadata": {},
   "outputs": [
    {
     "data": {
      "text/html": [
       "<div>\n",
       "<style scoped>\n",
       "    .dataframe tbody tr th:only-of-type {\n",
       "        vertical-align: middle;\n",
       "    }\n",
       "\n",
       "    .dataframe tbody tr th {\n",
       "        vertical-align: top;\n",
       "    }\n",
       "\n",
       "    .dataframe thead th {\n",
       "        text-align: right;\n",
       "    }\n",
       "</style>\n",
       "<table border=\"1\" class=\"dataframe\">\n",
       "  <thead>\n",
       "    <tr style=\"text-align: right;\">\n",
       "      <th></th>\n",
       "      <th>High</th>\n",
       "      <th>Low</th>\n",
       "      <th>Open</th>\n",
       "      <th>Close</th>\n",
       "      <th>Volume</th>\n",
       "      <th>Adj Close</th>\n",
       "    </tr>\n",
       "    <tr>\n",
       "      <th>Date</th>\n",
       "      <th></th>\n",
       "      <th></th>\n",
       "      <th></th>\n",
       "      <th></th>\n",
       "      <th></th>\n",
       "      <th></th>\n",
       "    </tr>\n",
       "  </thead>\n",
       "  <tbody>\n",
       "    <tr>\n",
       "      <th>2012-01-03</th>\n",
       "      <td>58.928570</td>\n",
       "      <td>58.428570</td>\n",
       "      <td>58.485714</td>\n",
       "      <td>58.747143</td>\n",
       "      <td>75555200.0</td>\n",
       "      <td>50.857235</td>\n",
       "    </tr>\n",
       "    <tr>\n",
       "      <th>2012-01-04</th>\n",
       "      <td>59.240002</td>\n",
       "      <td>58.468571</td>\n",
       "      <td>58.571430</td>\n",
       "      <td>59.062859</td>\n",
       "      <td>65005500.0</td>\n",
       "      <td>51.130558</td>\n",
       "    </tr>\n",
       "    <tr>\n",
       "      <th>2012-01-05</th>\n",
       "      <td>59.792858</td>\n",
       "      <td>58.952858</td>\n",
       "      <td>59.278572</td>\n",
       "      <td>59.718571</td>\n",
       "      <td>67817400.0</td>\n",
       "      <td>51.698215</td>\n",
       "    </tr>\n",
       "    <tr>\n",
       "      <th>2012-01-06</th>\n",
       "      <td>60.392857</td>\n",
       "      <td>59.888573</td>\n",
       "      <td>59.967144</td>\n",
       "      <td>60.342857</td>\n",
       "      <td>79573200.0</td>\n",
       "      <td>52.238651</td>\n",
       "    </tr>\n",
       "    <tr>\n",
       "      <th>2012-01-09</th>\n",
       "      <td>61.107143</td>\n",
       "      <td>60.192856</td>\n",
       "      <td>60.785713</td>\n",
       "      <td>60.247143</td>\n",
       "      <td>98506100.0</td>\n",
       "      <td>52.155792</td>\n",
       "    </tr>\n",
       "  </tbody>\n",
       "</table>\n",
       "</div>"
      ],
      "text/plain": [
       "                 High        Low       Open      Close      Volume  Adj Close\n",
       "Date                                                                         \n",
       "2012-01-03  58.928570  58.428570  58.485714  58.747143  75555200.0  50.857235\n",
       "2012-01-04  59.240002  58.468571  58.571430  59.062859  65005500.0  51.130558\n",
       "2012-01-05  59.792858  58.952858  59.278572  59.718571  67817400.0  51.698215\n",
       "2012-01-06  60.392857  59.888573  59.967144  60.342857  79573200.0  52.238651\n",
       "2012-01-09  61.107143  60.192856  60.785713  60.247143  98506100.0  52.155792"
      ]
     },
     "execution_count": 96,
     "metadata": {},
     "output_type": "execute_result"
    }
   ],
   "source": [
    "# Show the data\n",
    "df.head()"
   ]
  },
  {
   "cell_type": "code",
   "execution_count": 10,
   "metadata": {},
   "outputs": [
    {
     "data": {
      "text/plain": [
       "(2145, 6)"
      ]
     },
     "execution_count": 10,
     "metadata": {},
     "output_type": "execute_result"
    }
   ],
   "source": [
    "# Check data dimension\n",
    "df.shape"
   ]
  },
  {
   "cell_type": "code",
   "execution_count": 12,
   "metadata": {},
   "outputs": [
    {
     "data": {
      "image/png": "[encoded data removed]",
      "text/plain": [
       "<Figure size 1152x576 with 1 Axes>"
      ]
     },
     "metadata": {},
     "output_type": "display_data"
    }
   ],
   "source": [
    "# Visualize the closing price\n",
    "plt.figure(figsize = (16, 8))\n",
    "plt.title('Close Price History')\n",
    "plt.plot(df['Close'])\n",
    "plt.xlabel('Date', fontsize = 18)\n",
    "plt.ylabel('Close Price USD', fontsize = 18)\n",
    "plt.show()"
   ]
  },
  {
   "cell_type": "markdown",
   "metadata": {},
   "source": [
    "# Data Pre-processing"
   ]
  },
  {
   "cell_type": "code",
   "execution_count": 18,
   "metadata": {},
   "outputs": [
    {
     "data": {
      "text/plain": [
       "1716"
      ]
     },
     "execution_count": 18,
     "metadata": {},
     "output_type": "execute_result"
    }
   ],
   "source": [
    "# Create new dataframe with the 'Close' column\n",
    "data = df.filter(['Close'])\n",
    "\n",
    "# Convert dataframe into a numpy array\n",
    "dataset = data.values\n",
    "\n",
    "# Get the number of rows to train the model on # math.ceil -> Round up\n",
    "training_data_len = math.ceil(len(dataset)* 0.8)\n",
    "\n",
    "# Check the data length\n",
    "training_data_len"
   ]
  },
  {
   "cell_type": "code",
   "execution_count": 21,
   "metadata": {},
   "outputs": [],
   "source": [
    "# Scale the data\n",
    "scaler = MinMaxScaler(feature_range = (0,1))\n",
    "\n",
    "# Fit and transform the data\n",
    "scaled_data = scaler.fit_transform(dataset)\n",
    "\n",
    "# Check the data\n",
    "scaled_data;"
   ]
  },
  {
   "cell_type": "code",
   "execution_count": 36,
   "metadata": {},
   "outputs": [
    {
     "name": "stdout",
     "output_type": "stream",
     "text": [
      "[array([0.0090187 , 0.00998157, 0.01198137, 0.01388532, 0.01359341,\n",
      "       0.01425129, 0.01395067, 0.01344527, 0.01275689, 0.01488739,\n",
      "       0.01680877, 0.01621624, 0.01297038, 0.0160681 , 0.0130183 ,\n",
      "       0.02445506, 0.02357062, 0.02472519, 0.02722167, 0.02873349,\n",
      "       0.02860715, 0.02814097, 0.0301277 , 0.03199678, 0.03411423,\n",
      "       0.03753437, 0.04471883, 0.04482775, 0.04882736, 0.05181615,\n",
      "       0.04667941, 0.04865743, 0.04861822, 0.05416451, 0.05337591,\n",
      "       0.05483545, 0.05745828, 0.05891785, 0.06312222, 0.0661851 ,\n",
      "       0.06706952, 0.06737887, 0.06214193, 0.06087842, 0.06106578,\n",
      "       0.06598902, 0.06737452, 0.07035024, 0.07736479, 0.08672334,\n",
      "       0.08497187, 0.08497623, 0.09174244, 0.09385987, 0.09235239,\n",
      "       0.09097564, 0.08954223, 0.09430427, 0.09757193, 0.09893998])]\n",
      "[0.09555904727802514]\n",
      "\n",
      "[array([0.0090187 , 0.00998157, 0.01198137, 0.01388532, 0.01359341,\n",
      "       0.01425129, 0.01395067, 0.01344527, 0.01275689, 0.01488739,\n",
      "       0.01680877, 0.01621624, 0.01297038, 0.0160681 , 0.0130183 ,\n",
      "       0.02445506, 0.02357062, 0.02472519, 0.02722167, 0.02873349,\n",
      "       0.02860715, 0.02814097, 0.0301277 , 0.03199678, 0.03411423,\n",
      "       0.03753437, 0.04471883, 0.04482775, 0.04882736, 0.05181615,\n",
      "       0.04667941, 0.04865743, 0.04861822, 0.05416451, 0.05337591,\n",
      "       0.05483545, 0.05745828, 0.05891785, 0.06312222, 0.0661851 ,\n",
      "       0.06706952, 0.06737887, 0.06214193, 0.06087842, 0.06106578,\n",
      "       0.06598902, 0.06737452, 0.07035024, 0.07736479, 0.08672334,\n",
      "       0.08497187, 0.08497623, 0.09174244, 0.09385987, 0.09235239,\n",
      "       0.09097564, 0.08954223, 0.09430427, 0.09757193, 0.09893998]), array([0.00998157, 0.01198137, 0.01388532, 0.01359341, 0.01425129,\n",
      "       0.01395067, 0.01344527, 0.01275689, 0.01488739, 0.01680877,\n",
      "       0.01621624, 0.01297038, 0.0160681 , 0.0130183 , 0.02445506,\n",
      "       0.02357062, 0.02472519, 0.02722167, 0.02873349, 0.02860715,\n",
      "       0.02814097, 0.0301277 , 0.03199678, 0.03411423, 0.03753437,\n",
      "       0.04471883, 0.04482775, 0.04882736, 0.05181615, 0.04667941,\n",
      "       0.04865743, 0.04861822, 0.05416451, 0.05337591, 0.05483545,\n",
      "       0.05745828, 0.05891785, 0.06312222, 0.0661851 , 0.06706952,\n",
      "       0.06737887, 0.06214193, 0.06087842, 0.06106578, 0.06598902,\n",
      "       0.06737452, 0.07035024, 0.07736479, 0.08672334, 0.08497187,\n",
      "       0.08497623, 0.09174244, 0.09385987, 0.09235239, 0.09097564,\n",
      "       0.08954223, 0.09430427, 0.09757193, 0.09893998, 0.09555905])]\n",
      "[0.09555904727802514, 0.0910671303202952]\n",
      "\n"
     ]
    }
   ],
   "source": [
    "# Create the training dataset\n",
    "# Create the scaled training dataset\n",
    "train_data = scaled_data[0: training_data_len, :] # Get all the data from 0 to training_data_len, all column\n",
    "\n",
    "# Split the data\n",
    "X_train = []\n",
    "y_train = []\n",
    "\n",
    "for i in range (60, len(train_data)):\n",
    "    X_train.append(train_data[i - 60:i, 0])\n",
    "    y_train.append(train_data[i, 0])\n",
    "    if i <=61:\n",
    "        print(X_train) # Past 60 days\n",
    "        print(y_train) # target label\n",
    "        print()"
   ]
  },
  {
   "cell_type": "code",
   "execution_count": 37,
   "metadata": {},
   "outputs": [],
   "source": [
    "# Convert the X_train and y_train to numpy arrays\n",
    "X_train, y_train = np.array(X_train), np.array(y_train)"
   ]
  },
  {
   "cell_type": "code",
   "execution_count": 41,
   "metadata": {},
   "outputs": [
    {
     "data": {
      "text/plain": [
       "(1656, 60, 1)"
      ]
     },
     "execution_count": 41,
     "metadata": {},
     "output_type": "execute_result"
    }
   ],
   "source": [
    "# Reshape the data # LSTM needs 3 dimensional data\n",
    "X_train = np.reshape(X_train, (X_train.shape[0], X_train.shape[1], 1))\n",
    "X_train.shape"
   ]
  },
  {
   "cell_type": "markdown",
   "metadata": {},
   "source": [
    "# Model Creation"
   ]
  },
  {
   "cell_type": "code",
   "execution_count": 42,
   "metadata": {},
   "outputs": [],
   "source": [
    "# Build the LSTM model # X_train.shape[1] = 60\n",
    "model = Sequential()\n",
    "\n",
    "# First layer\n",
    "model.add(LSTM(50, return_sequences = True, input_shape = (X_train.shape[1], 1)))\n",
    "\n",
    "# Second layer\n",
    "model.add(LSTM(50, return_sequences = False))\n",
    "\n",
    "# Third layer\n",
    "model.add(Dense(25))\n",
    "\n",
    "# Last layer\n",
    "model.add(Dense(1))"
   ]
  },
  {
   "cell_type": "code",
   "execution_count": 43,
   "metadata": {},
   "outputs": [],
   "source": [
    "# Compile the model\n",
    "model.compile(optimizer = 'adam', loss = 'mean_squared_error')"
   ]
  },
  {
   "cell_type": "code",
   "execution_count": 44,
   "metadata": {},
   "outputs": [
    {
     "name": "stdout",
     "output_type": "stream",
     "text": [
      "1656/1656 [==============================] - 144s 87ms/step - loss: 3.9337e-04\n"
     ]
    },
    {
     "data": {
      "text/plain": [
       "<tensorflow.python.keras.callbacks.History at 0x1c2cdef1940>"
      ]
     },
     "execution_count": 44,
     "metadata": {},
     "output_type": "execute_result"
    }
   ],
   "source": [
    "# Train the model\n",
    "model.fit(X_train, y_train, batch_size = 1, epochs = 1)"
   ]
  },
  {
   "cell_type": "markdown",
   "metadata": {},
   "source": [
    "# Model Evaluation"
   ]
  },
  {
   "cell_type": "code",
   "execution_count": 48,
   "metadata": {},
   "outputs": [],
   "source": [
    "# Create the testing dataset\n",
    "# Create a new array containing scaled values from index 1656 to 2145\n",
    "test_data = scaled_data[training_data_len - 60:, :]\n",
    "\n",
    "# Create the datasets X_test and y_test\n",
    "X_test = []\n",
    "y_test = dataset[training_data_len:, :] # 60 first actual values, not scaled\n",
    "\n",
    "for i in range(60, len(test_data)):\n",
    "    X_test.append(test_data[i - 60:i, 0]) # Past 60 values"
   ]
  },
  {
   "cell_type": "code",
   "execution_count": 50,
   "metadata": {},
   "outputs": [],
   "source": [
    "# Convert the data to a numpy array to be able to use in LSTM model\n",
    "X_test = np.array(X_test)"
   ]
  },
  {
   "cell_type": "code",
   "execution_count": 52,
   "metadata": {},
   "outputs": [],
   "source": [
    "# Check the shape\n",
    "X_test;"
   ]
  },
  {
   "cell_type": "code",
   "execution_count": 54,
   "metadata": {},
   "outputs": [],
   "source": [
    "# Reshape the data for LSTM model. It needs 3 dimensional data\n",
    "X_test = np.reshape(X_test, (X_test.shape[0], X_test.shape[1], 1))"
   ]
  },
  {
   "cell_type": "code",
   "execution_count": 55,
   "metadata": {},
   "outputs": [],
   "source": [
    "# Get the models predicted price values\n",
    "predictions = model.predict(X_test)\n",
    "\n",
    "# Get the inverse shape of the data\n",
    "predictions = scaler.inverse_transform(predictions)"
   ]
  },
  {
   "cell_type": "code",
   "execution_count": 58,
   "metadata": {},
   "outputs": [
    {
     "name": "stdout",
     "output_type": "stream",
     "text": [
      "rmse: 6.095267876044853\n"
     ]
    }
   ],
   "source": [
    "# Evaluate the model\n",
    "# Get the root mean squared error (RMSE)\n",
    "rmse = np.sqrt(np.mean(predictions - y_test)**2)\n",
    "\n",
    "# Show the rmse\n",
    "print('rmse:', rmse)"
   ]
  },
  {
   "cell_type": "code",
   "execution_count": 80,
   "metadata": {},
   "outputs": [
    {
     "name": "stderr",
     "output_type": "stream",
     "text": [
      "<ipython-input-80-17b94435c8f5>:4: SettingWithCopyWarning: \n",
      "A value is trying to be set on a copy of a slice from a DataFrame.\n",
      "Try using .loc[row_indexer,col_indexer] = value instead\n",
      "\n",
      "See the caveats in the documentation: https://pandas.pydata.org/pandas-docs/stable/user_guide/indexing.html#returning-a-view-versus-a-copy\n",
      "  valid['Predictions'] = predictions\n"
     ]
    },
    {
     "data": {
      "image/png": "[encoded data removed]",
      "text/plain": [
       "<Figure size 1296x576 with 1 Axes>"
      ]
     },
     "metadata": {},
     "output_type": "display_data"
    }
   ],
   "source": [
    "# Plot the data\n",
    "train = data[:training_data_len]\n",
    "valid = data[training_data_len:]\n",
    "valid['Predictions'] = predictions\n",
    "\n",
    "# Visualize the data\n",
    "plt.figure(figsize = (18, 8))\n",
    "plt.title('Model')\n",
    "plt.xlabel('Date')\n",
    "plt.ylabel('Close Price USD', fontsize = 18)\n",
    "plt.plot(train['Close'])\n",
    "plt.plot(valid[['Close', 'Predictions']])\n",
    "plt.legend(['Train', 'Val', 'Predictions'], loc = 'lower right')\n",
    "plt.show()"
   ]
  },
  {
   "cell_type": "code",
   "execution_count": 66,
   "metadata": {},
   "outputs": [
    {
     "data": {
      "text/html": [
       "<div>\n",
       "<style scoped>\n",
       "    .dataframe tbody tr th:only-of-type {\n",
       "        vertical-align: middle;\n",
       "    }\n",
       "\n",
       "    .dataframe tbody tr th {\n",
       "        vertical-align: top;\n",
       "    }\n",
       "\n",
       "    .dataframe thead th {\n",
       "        text-align: right;\n",
       "    }\n",
       "</style>\n",
       "<table border=\"1\" class=\"dataframe\">\n",
       "  <thead>\n",
       "    <tr style=\"text-align: right;\">\n",
       "      <th></th>\n",
       "      <th>Close</th>\n",
       "      <th>Predictions</th>\n",
       "    </tr>\n",
       "    <tr>\n",
       "      <th>Date</th>\n",
       "      <th></th>\n",
       "      <th></th>\n",
       "    </tr>\n",
       "  </thead>\n",
       "  <tbody>\n",
       "    <tr>\n",
       "      <th>2018-10-26</th>\n",
       "      <td>216.300003</td>\n",
       "      <td>215.546387</td>\n",
       "    </tr>\n",
       "    <tr>\n",
       "      <th>2018-10-29</th>\n",
       "      <td>212.240005</td>\n",
       "      <td>215.108917</td>\n",
       "    </tr>\n",
       "    <tr>\n",
       "      <th>2018-10-30</th>\n",
       "      <td>213.300003</td>\n",
       "      <td>214.077057</td>\n",
       "    </tr>\n",
       "    <tr>\n",
       "      <th>2018-10-31</th>\n",
       "      <td>218.860001</td>\n",
       "      <td>213.038071</td>\n",
       "    </tr>\n",
       "    <tr>\n",
       "      <th>2018-11-01</th>\n",
       "      <td>222.220001</td>\n",
       "      <td>212.820068</td>\n",
       "    </tr>\n",
       "    <tr>\n",
       "      <th>...</th>\n",
       "      <td>...</td>\n",
       "      <td>...</td>\n",
       "    </tr>\n",
       "    <tr>\n",
       "      <th>2020-07-07</th>\n",
       "      <td>372.690002</td>\n",
       "      <td>354.960175</td>\n",
       "    </tr>\n",
       "    <tr>\n",
       "      <th>2020-07-08</th>\n",
       "      <td>381.369995</td>\n",
       "      <td>356.941803</td>\n",
       "    </tr>\n",
       "    <tr>\n",
       "      <th>2020-07-09</th>\n",
       "      <td>383.010010</td>\n",
       "      <td>359.823456</td>\n",
       "    </tr>\n",
       "    <tr>\n",
       "      <th>2020-07-10</th>\n",
       "      <td>383.679993</td>\n",
       "      <td>362.886322</td>\n",
       "    </tr>\n",
       "    <tr>\n",
       "      <th>2020-07-13</th>\n",
       "      <td>381.910004</td>\n",
       "      <td>365.708496</td>\n",
       "    </tr>\n",
       "  </tbody>\n",
       "</table>\n",
       "<p>429 rows × 2 columns</p>\n",
       "</div>"
      ],
      "text/plain": [
       "                 Close  Predictions\n",
       "Date                               \n",
       "2018-10-26  216.300003   215.546387\n",
       "2018-10-29  212.240005   215.108917\n",
       "2018-10-30  213.300003   214.077057\n",
       "2018-10-31  218.860001   213.038071\n",
       "2018-11-01  222.220001   212.820068\n",
       "...                ...          ...\n",
       "2020-07-07  372.690002   354.960175\n",
       "2020-07-08  381.369995   356.941803\n",
       "2020-07-09  383.010010   359.823456\n",
       "2020-07-10  383.679993   362.886322\n",
       "2020-07-13  381.910004   365.708496\n",
       "\n",
       "[429 rows x 2 columns]"
      ]
     },
     "execution_count": 66,
     "metadata": {},
     "output_type": "execute_result"
    }
   ],
   "source": [
    "# Show the valid (Actual price) and predicted prices\n",
    "valid"
   ]
  },
  {
   "cell_type": "markdown",
   "metadata": {},
   "source": [
    "# Another Prediction"
   ]
  },
  {
   "cell_type": "code",
   "execution_count": 91,
   "metadata": {},
   "outputs": [
    {
     "name": "stdout",
     "output_type": "stream",
     "text": [
      "Predicted price at July 14, 2020 is [[368.]]\n"
     ]
    }
   ],
   "source": [
    "# Get stack quote\n",
    "apple_quote = web.DataReader('AAPL', data_source = 'yahoo', start = '2012-01-01', end = '2020-07-13')\n",
    "\n",
    "# Create a new dataframe \n",
    "new_df = apple_quote.filter(['Close'])\n",
    "\n",
    "# Get the last 60 days closing price values and convert the dataframe to an array\n",
    "last_60_days  = new_df[-60:].values\n",
    "\n",
    "# Scale the data to be values between 0 and 1\n",
    "last_60_days_scaled = scaler.transform(last_60_days)\n",
    "\n",
    "# Create an empty list\n",
    "X_test = []\n",
    "\n",
    "# Append the past 60 days\n",
    "X_test.append(last_60_days_scaled)\n",
    "\n",
    "# Convert the X_test dataset to a numpy array\n",
    "X_test = np.array(X_test)\n",
    "\n",
    "# Reshape the data\n",
    "X_test = np.reshape(X_test, (X_test.shape[0], X_test.shape[1], 1))\n",
    "\n",
    "# Get the predicted scaled price\n",
    "pred_price = model.predict(X_test)\n",
    "\n",
    "# Undo the scaling\n",
    "pred_price = scaler.inverse_transform(pred_price)\n",
    "print('Predicted price at July 14, 2020 is', np.round(pred_price))"
   ]
  },
  {
   "cell_type": "code",
   "execution_count": 92,
   "metadata": {},
   "outputs": [
    {
     "name": "stdout",
     "output_type": "stream",
     "text": [
      "Actual price at July 14, 2020 is 383.0\n"
     ]
    }
   ],
   "source": [
    "# Get stack quote\n",
    "apple_quote_2 = web.DataReader('AAPL', data_source = 'yahoo', start = '2020-07-14', end = '2020-07-14')\n",
    "\n",
    "# Show the actual price\n",
    "print('Actual price at July 14, 2020 is', np.round(apple_quote_2['Close'][1]))"
   ]
  },
  {
   "cell_type": "markdown",
   "metadata": {},
   "source": [
    "# Conclusion\n",
    "\n",
    "The project concludes that LSTM neural network can be good alternative for stock market time series prediction among other machine learning methods.Further testing of different parameter and architecture settings are needed to improve the accuracy."
   ]
  }
 ],
 "metadata": {
  "hide_input": false,
  "kernelspec": {
   "display_name": "Python 3",
   "language": "python",
   "name": "python3"
  },
  "language_info": {
   "codemirror_mode": {
    "name": "ipython",
    "version": 3
   },
   "file_extension": ".py",
   "mimetype": "text/x-python",
   "name": "python",
   "nbconvert_exporter": "python",
   "pygments_lexer": "ipython3",
   "version": "3.8.3"
  },
  "toc": {
   "base_numbering": 1,
   "nav_menu": {},
   "number_sections": true,
   "sideBar": true,
   "skip_h1_title": false,
   "title_cell": "Table of Contents",
   "title_sidebar": "Contents",
   "toc_cell": true,
   "toc_position": {},
   "toc_section_display": true,
   "toc_window_display": false
  },
  "varInspector": {
   "cols": {
    "lenName": 16,
    "lenType": 16,
    "lenVar": 40
   },
   "kernels_config": {
    "python": {
     "delete_cmd_postfix": "",
     "delete_cmd_prefix": "del ",
     "library": "var_list.py",
     "varRefreshCmd": "print(var_dic_list())"
    },
    "r": {
     "delete_cmd_postfix": ") ",
     "delete_cmd_prefix": "rm(",
     "library": "var_list.r",
     "varRefreshCmd": "cat(var_dic_list()) "
    }
   },
   "types_to_exclude": [
    "module",
    "function",
    "builtin_function_or_method",
    "instance",
    "_Feature"
   ],
   "window_display": false
  }
 },
 "nbformat": 4,
 "nbformat_minor": 4
}
